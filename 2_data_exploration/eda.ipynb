{
 "cells": [
  {
   "cell_type": "markdown",
   "id": "536fe626",
   "metadata": {},
   "source": [
    "Подключаем библиотеки"
   ]
  },
  {
   "cell_type": "code",
   "execution_count": 1,
   "id": "f74eb009",
   "metadata": {},
   "outputs": [],
   "source": [
    "import pandas as pd\n",
    "import numpy as np"
   ]
  },
  {
   "cell_type": "code",
   "execution_count": 2,
   "id": "bb1932f3",
   "metadata": {},
   "outputs": [],
   "source": [
    "import matplotlib.pyplot as plt\n",
    "import seaborn as sns\n",
    "sns.set()\n",
    "%matplotlib inline"
   ]
  },
  {
   "cell_type": "markdown",
   "id": "a65264a2",
   "metadata": {},
   "source": [
    "Загружаем data frame, столбец 'PassengerId' будет служить индексами строк"
   ]
  },
  {
   "cell_type": "code",
   "execution_count": 3,
   "id": "b489cb9e",
   "metadata": {},
   "outputs": [],
   "source": [
    "df = pd.read_csv('train.csv', index_col='PassengerId')"
   ]
  },
  {
   "cell_type": "markdown",
   "id": "d07912a0",
   "metadata": {},
   "source": [
    "# Context"
   ]
  },
  {
   "cell_type": "markdown",
   "id": "c244a346",
   "metadata": {},
   "source": [
    "https://www.kaggle.com/c/tabular-playground-series-apr-2021/overview"
   ]
  },
  {
   "cell_type": "markdown",
   "id": "cfe0a3fb",
   "metadata": {},
   "source": [
    "Посмотрим на первые 10 строк"
   ]
  },
  {
   "cell_type": "code",
   "execution_count": 4,
   "id": "e1841c51",
   "metadata": {},
   "outputs": [
    {
     "data": {
      "text/html": [
       "<div>\n",
       "<style scoped>\n",
       "    .dataframe tbody tr th:only-of-type {\n",
       "        vertical-align: middle;\n",
       "    }\n",
       "\n",
       "    .dataframe tbody tr th {\n",
       "        vertical-align: top;\n",
       "    }\n",
       "\n",
       "    .dataframe thead th {\n",
       "        text-align: right;\n",
       "    }\n",
       "</style>\n",
       "<table border=\"1\" class=\"dataframe\">\n",
       "  <thead>\n",
       "    <tr style=\"text-align: right;\">\n",
       "      <th></th>\n",
       "      <th>Survived</th>\n",
       "      <th>Pclass</th>\n",
       "      <th>Name</th>\n",
       "      <th>Sex</th>\n",
       "      <th>Age</th>\n",
       "      <th>SibSp</th>\n",
       "      <th>Parch</th>\n",
       "      <th>Ticket</th>\n",
       "      <th>Fare</th>\n",
       "      <th>Cabin</th>\n",
       "      <th>Embarked</th>\n",
       "    </tr>\n",
       "    <tr>\n",
       "      <th>PassengerId</th>\n",
       "      <th></th>\n",
       "      <th></th>\n",
       "      <th></th>\n",
       "      <th></th>\n",
       "      <th></th>\n",
       "      <th></th>\n",
       "      <th></th>\n",
       "      <th></th>\n",
       "      <th></th>\n",
       "      <th></th>\n",
       "      <th></th>\n",
       "    </tr>\n",
       "  </thead>\n",
       "  <tbody>\n",
       "    <tr>\n",
       "      <th>0</th>\n",
       "      <td>1</td>\n",
       "      <td>1</td>\n",
       "      <td>Oconnor, Frankie</td>\n",
       "      <td>male</td>\n",
       "      <td>NaN</td>\n",
       "      <td>2</td>\n",
       "      <td>0</td>\n",
       "      <td>209245</td>\n",
       "      <td>27.14</td>\n",
       "      <td>C12239</td>\n",
       "      <td>S</td>\n",
       "    </tr>\n",
       "    <tr>\n",
       "      <th>1</th>\n",
       "      <td>0</td>\n",
       "      <td>3</td>\n",
       "      <td>Bryan, Drew</td>\n",
       "      <td>male</td>\n",
       "      <td>NaN</td>\n",
       "      <td>0</td>\n",
       "      <td>0</td>\n",
       "      <td>27323</td>\n",
       "      <td>13.35</td>\n",
       "      <td>NaN</td>\n",
       "      <td>S</td>\n",
       "    </tr>\n",
       "    <tr>\n",
       "      <th>2</th>\n",
       "      <td>0</td>\n",
       "      <td>3</td>\n",
       "      <td>Owens, Kenneth</td>\n",
       "      <td>male</td>\n",
       "      <td>0.33</td>\n",
       "      <td>1</td>\n",
       "      <td>2</td>\n",
       "      <td>CA 457703</td>\n",
       "      <td>71.29</td>\n",
       "      <td>NaN</td>\n",
       "      <td>S</td>\n",
       "    </tr>\n",
       "    <tr>\n",
       "      <th>3</th>\n",
       "      <td>0</td>\n",
       "      <td>3</td>\n",
       "      <td>Kramer, James</td>\n",
       "      <td>male</td>\n",
       "      <td>19.00</td>\n",
       "      <td>0</td>\n",
       "      <td>0</td>\n",
       "      <td>A. 10866</td>\n",
       "      <td>13.04</td>\n",
       "      <td>NaN</td>\n",
       "      <td>S</td>\n",
       "    </tr>\n",
       "    <tr>\n",
       "      <th>4</th>\n",
       "      <td>1</td>\n",
       "      <td>3</td>\n",
       "      <td>Bond, Michael</td>\n",
       "      <td>male</td>\n",
       "      <td>25.00</td>\n",
       "      <td>0</td>\n",
       "      <td>0</td>\n",
       "      <td>427635</td>\n",
       "      <td>7.76</td>\n",
       "      <td>NaN</td>\n",
       "      <td>S</td>\n",
       "    </tr>\n",
       "    <tr>\n",
       "      <th>5</th>\n",
       "      <td>0</td>\n",
       "      <td>2</td>\n",
       "      <td>Sassano, Jonathan</td>\n",
       "      <td>male</td>\n",
       "      <td>35.00</td>\n",
       "      <td>0</td>\n",
       "      <td>0</td>\n",
       "      <td>13363</td>\n",
       "      <td>6.71</td>\n",
       "      <td>NaN</td>\n",
       "      <td>S</td>\n",
       "    </tr>\n",
       "    <tr>\n",
       "      <th>6</th>\n",
       "      <td>0</td>\n",
       "      <td>3</td>\n",
       "      <td>Conway, Jose</td>\n",
       "      <td>male</td>\n",
       "      <td>7.00</td>\n",
       "      <td>0</td>\n",
       "      <td>0</td>\n",
       "      <td>A/5</td>\n",
       "      <td>9.77</td>\n",
       "      <td>NaN</td>\n",
       "      <td>S</td>\n",
       "    </tr>\n",
       "    <tr>\n",
       "      <th>7</th>\n",
       "      <td>1</td>\n",
       "      <td>3</td>\n",
       "      <td>Werner, Linda</td>\n",
       "      <td>female</td>\n",
       "      <td>6.00</td>\n",
       "      <td>1</td>\n",
       "      <td>2</td>\n",
       "      <td>434426</td>\n",
       "      <td>31.50</td>\n",
       "      <td>NaN</td>\n",
       "      <td>S</td>\n",
       "    </tr>\n",
       "    <tr>\n",
       "      <th>8</th>\n",
       "      <td>0</td>\n",
       "      <td>1</td>\n",
       "      <td>Wardlaw, Michael</td>\n",
       "      <td>male</td>\n",
       "      <td>27.00</td>\n",
       "      <td>2</td>\n",
       "      <td>1</td>\n",
       "      <td>474849</td>\n",
       "      <td>73.02</td>\n",
       "      <td>A7253</td>\n",
       "      <td>S</td>\n",
       "    </tr>\n",
       "    <tr>\n",
       "      <th>9</th>\n",
       "      <td>0</td>\n",
       "      <td>2</td>\n",
       "      <td>Greigo, Rudy</td>\n",
       "      <td>male</td>\n",
       "      <td>66.00</td>\n",
       "      <td>0</td>\n",
       "      <td>0</td>\n",
       "      <td>6981</td>\n",
       "      <td>9.14</td>\n",
       "      <td>D2969</td>\n",
       "      <td>C</td>\n",
       "    </tr>\n",
       "  </tbody>\n",
       "</table>\n",
       "</div>"
      ],
      "text/plain": [
       "             Survived  Pclass               Name     Sex    Age  SibSp  Parch  \\\n",
       "PassengerId                                                                     \n",
       "0                   1       1   Oconnor, Frankie    male    NaN      2      0   \n",
       "1                   0       3        Bryan, Drew    male    NaN      0      0   \n",
       "2                   0       3     Owens, Kenneth    male   0.33      1      2   \n",
       "3                   0       3      Kramer, James    male  19.00      0      0   \n",
       "4                   1       3      Bond, Michael    male  25.00      0      0   \n",
       "5                   0       2  Sassano, Jonathan    male  35.00      0      0   \n",
       "6                   0       3       Conway, Jose    male   7.00      0      0   \n",
       "7                   1       3      Werner, Linda  female   6.00      1      2   \n",
       "8                   0       1   Wardlaw, Michael    male  27.00      2      1   \n",
       "9                   0       2       Greigo, Rudy    male  66.00      0      0   \n",
       "\n",
       "                Ticket   Fare   Cabin Embarked  \n",
       "PassengerId                                     \n",
       "0               209245  27.14  C12239        S  \n",
       "1                27323  13.35     NaN        S  \n",
       "2            CA 457703  71.29     NaN        S  \n",
       "3             A. 10866  13.04     NaN        S  \n",
       "4               427635   7.76     NaN        S  \n",
       "5                13363   6.71     NaN        S  \n",
       "6                 A/5    9.77     NaN        S  \n",
       "7               434426  31.50     NaN        S  \n",
       "8               474849  73.02   A7253        S  \n",
       "9                 6981   9.14   D2969        C  "
      ]
     },
     "execution_count": 4,
     "metadata": {},
     "output_type": "execute_result"
    }
   ],
   "source": [
    "df.head(10)"
   ]
  },
  {
   "cell_type": "markdown",
   "id": "2abbace1",
   "metadata": {},
   "source": [
    "Посмотрим на размер таблицы"
   ]
  },
  {
   "cell_type": "code",
   "execution_count": 5,
   "id": "a6e86125",
   "metadata": {},
   "outputs": [
    {
     "data": {
      "text/plain": [
       "(100000, 11)"
      ]
     },
     "execution_count": 5,
     "metadata": {},
     "output_type": "execute_result"
    }
   ],
   "source": [
    "df.shape"
   ]
  },
  {
   "cell_type": "markdown",
   "id": "0064e201",
   "metadata": {},
   "source": [
    "В таблице 100 тысяч строк и 11 столбцов"
   ]
  },
  {
   "cell_type": "markdown",
   "id": "4fd261f5",
   "metadata": {},
   "source": [
    "Посмотрим есть ли пропущенные значения и на типы данных в столбцах"
   ]
  },
  {
   "cell_type": "code",
   "execution_count": 6,
   "id": "e87badfc",
   "metadata": {},
   "outputs": [
    {
     "name": "stdout",
     "output_type": "stream",
     "text": [
      "<class 'pandas.core.frame.DataFrame'>\n",
      "Int64Index: 100000 entries, 0 to 99999\n",
      "Data columns (total 11 columns):\n",
      " #   Column    Non-Null Count   Dtype  \n",
      "---  ------    --------------   -----  \n",
      " 0   Survived  100000 non-null  int64  \n",
      " 1   Pclass    100000 non-null  int64  \n",
      " 2   Name      100000 non-null  object \n",
      " 3   Sex       100000 non-null  object \n",
      " 4   Age       96708 non-null   float64\n",
      " 5   SibSp     100000 non-null  int64  \n",
      " 6   Parch     100000 non-null  int64  \n",
      " 7   Ticket    95377 non-null   object \n",
      " 8   Fare      99866 non-null   float64\n",
      " 9   Cabin     32134 non-null   object \n",
      " 10  Embarked  99750 non-null   object \n",
      "dtypes: float64(2), int64(4), object(5)\n",
      "memory usage: 9.2+ MB\n"
     ]
    }
   ],
   "source": [
    "df.info()"
   ]
  },
  {
   "cell_type": "code",
   "execution_count": 7,
   "id": "2e649f72",
   "metadata": {},
   "outputs": [
    {
     "data": {
      "text/plain": [
       "Survived        0\n",
       "Pclass          0\n",
       "Name            0\n",
       "Sex             0\n",
       "Age          3292\n",
       "SibSp           0\n",
       "Parch           0\n",
       "Ticket       4623\n",
       "Fare          134\n",
       "Cabin       67866\n",
       "Embarked      250\n",
       "dtype: int64"
      ]
     },
     "execution_count": 7,
     "metadata": {},
     "output_type": "execute_result"
    }
   ],
   "source": [
    "df.isna().sum()"
   ]
  },
  {
   "cell_type": "markdown",
   "id": "7c82c7a6",
   "metadata": {},
   "source": [
    "Видим, что есть пропущенные значения в столбцах 'Age', 'Ticket', 'Fare', 'Cabin' и 'Embarked'"
   ]
  },
  {
   "cell_type": "markdown",
   "id": "9b4320c6",
   "metadata": {},
   "source": [
    "# Data quality assessment"
   ]
  },
  {
   "cell_type": "markdown",
   "id": "2a2cc071",
   "metadata": {},
   "source": [
    "удалим дубликаты, если таковы есть"
   ]
  },
  {
   "cell_type": "code",
   "execution_count": 8,
   "id": "0b07842e",
   "metadata": {},
   "outputs": [
    {
     "data": {
      "text/html": [
       "<div>\n",
       "<style scoped>\n",
       "    .dataframe tbody tr th:only-of-type {\n",
       "        vertical-align: middle;\n",
       "    }\n",
       "\n",
       "    .dataframe tbody tr th {\n",
       "        vertical-align: top;\n",
       "    }\n",
       "\n",
       "    .dataframe thead th {\n",
       "        text-align: right;\n",
       "    }\n",
       "</style>\n",
       "<table border=\"1\" class=\"dataframe\">\n",
       "  <thead>\n",
       "    <tr style=\"text-align: right;\">\n",
       "      <th></th>\n",
       "      <th>Survived</th>\n",
       "      <th>Pclass</th>\n",
       "      <th>Name</th>\n",
       "      <th>Sex</th>\n",
       "      <th>Age</th>\n",
       "      <th>SibSp</th>\n",
       "      <th>Parch</th>\n",
       "      <th>Ticket</th>\n",
       "      <th>Fare</th>\n",
       "      <th>Cabin</th>\n",
       "      <th>Embarked</th>\n",
       "    </tr>\n",
       "    <tr>\n",
       "      <th>PassengerId</th>\n",
       "      <th></th>\n",
       "      <th></th>\n",
       "      <th></th>\n",
       "      <th></th>\n",
       "      <th></th>\n",
       "      <th></th>\n",
       "      <th></th>\n",
       "      <th></th>\n",
       "      <th></th>\n",
       "      <th></th>\n",
       "      <th></th>\n",
       "    </tr>\n",
       "  </thead>\n",
       "  <tbody>\n",
       "    <tr>\n",
       "      <th>0</th>\n",
       "      <td>1</td>\n",
       "      <td>1</td>\n",
       "      <td>Oconnor, Frankie</td>\n",
       "      <td>male</td>\n",
       "      <td>NaN</td>\n",
       "      <td>2</td>\n",
       "      <td>0</td>\n",
       "      <td>209245</td>\n",
       "      <td>27.14</td>\n",
       "      <td>C12239</td>\n",
       "      <td>S</td>\n",
       "    </tr>\n",
       "    <tr>\n",
       "      <th>1</th>\n",
       "      <td>0</td>\n",
       "      <td>3</td>\n",
       "      <td>Bryan, Drew</td>\n",
       "      <td>male</td>\n",
       "      <td>NaN</td>\n",
       "      <td>0</td>\n",
       "      <td>0</td>\n",
       "      <td>27323</td>\n",
       "      <td>13.35</td>\n",
       "      <td>NaN</td>\n",
       "      <td>S</td>\n",
       "    </tr>\n",
       "    <tr>\n",
       "      <th>2</th>\n",
       "      <td>0</td>\n",
       "      <td>3</td>\n",
       "      <td>Owens, Kenneth</td>\n",
       "      <td>male</td>\n",
       "      <td>0.33</td>\n",
       "      <td>1</td>\n",
       "      <td>2</td>\n",
       "      <td>CA 457703</td>\n",
       "      <td>71.29</td>\n",
       "      <td>NaN</td>\n",
       "      <td>S</td>\n",
       "    </tr>\n",
       "    <tr>\n",
       "      <th>3</th>\n",
       "      <td>0</td>\n",
       "      <td>3</td>\n",
       "      <td>Kramer, James</td>\n",
       "      <td>male</td>\n",
       "      <td>19.00</td>\n",
       "      <td>0</td>\n",
       "      <td>0</td>\n",
       "      <td>A. 10866</td>\n",
       "      <td>13.04</td>\n",
       "      <td>NaN</td>\n",
       "      <td>S</td>\n",
       "    </tr>\n",
       "    <tr>\n",
       "      <th>4</th>\n",
       "      <td>1</td>\n",
       "      <td>3</td>\n",
       "      <td>Bond, Michael</td>\n",
       "      <td>male</td>\n",
       "      <td>25.00</td>\n",
       "      <td>0</td>\n",
       "      <td>0</td>\n",
       "      <td>427635</td>\n",
       "      <td>7.76</td>\n",
       "      <td>NaN</td>\n",
       "      <td>S</td>\n",
       "    </tr>\n",
       "    <tr>\n",
       "      <th>...</th>\n",
       "      <td>...</td>\n",
       "      <td>...</td>\n",
       "      <td>...</td>\n",
       "      <td>...</td>\n",
       "      <td>...</td>\n",
       "      <td>...</td>\n",
       "      <td>...</td>\n",
       "      <td>...</td>\n",
       "      <td>...</td>\n",
       "      <td>...</td>\n",
       "      <td>...</td>\n",
       "    </tr>\n",
       "    <tr>\n",
       "      <th>99995</th>\n",
       "      <td>1</td>\n",
       "      <td>2</td>\n",
       "      <td>Bell, Adele</td>\n",
       "      <td>female</td>\n",
       "      <td>62.00</td>\n",
       "      <td>0</td>\n",
       "      <td>0</td>\n",
       "      <td>PC 15008</td>\n",
       "      <td>14.86</td>\n",
       "      <td>D17243</td>\n",
       "      <td>C</td>\n",
       "    </tr>\n",
       "    <tr>\n",
       "      <th>99996</th>\n",
       "      <td>0</td>\n",
       "      <td>2</td>\n",
       "      <td>Brown, Herman</td>\n",
       "      <td>male</td>\n",
       "      <td>66.00</td>\n",
       "      <td>0</td>\n",
       "      <td>0</td>\n",
       "      <td>13273</td>\n",
       "      <td>11.15</td>\n",
       "      <td>NaN</td>\n",
       "      <td>S</td>\n",
       "    </tr>\n",
       "    <tr>\n",
       "      <th>99997</th>\n",
       "      <td>0</td>\n",
       "      <td>3</td>\n",
       "      <td>Childress, Charles</td>\n",
       "      <td>male</td>\n",
       "      <td>37.00</td>\n",
       "      <td>0</td>\n",
       "      <td>0</td>\n",
       "      <td>NaN</td>\n",
       "      <td>9.95</td>\n",
       "      <td>NaN</td>\n",
       "      <td>S</td>\n",
       "    </tr>\n",
       "    <tr>\n",
       "      <th>99998</th>\n",
       "      <td>0</td>\n",
       "      <td>3</td>\n",
       "      <td>Caughlin, Thomas</td>\n",
       "      <td>male</td>\n",
       "      <td>51.00</td>\n",
       "      <td>0</td>\n",
       "      <td>1</td>\n",
       "      <td>458654</td>\n",
       "      <td>30.92</td>\n",
       "      <td>NaN</td>\n",
       "      <td>S</td>\n",
       "    </tr>\n",
       "    <tr>\n",
       "      <th>99999</th>\n",
       "      <td>0</td>\n",
       "      <td>3</td>\n",
       "      <td>Enciso, Tyler</td>\n",
       "      <td>male</td>\n",
       "      <td>55.00</td>\n",
       "      <td>0</td>\n",
       "      <td>0</td>\n",
       "      <td>458074</td>\n",
       "      <td>13.96</td>\n",
       "      <td>NaN</td>\n",
       "      <td>S</td>\n",
       "    </tr>\n",
       "  </tbody>\n",
       "</table>\n",
       "<p>100000 rows × 11 columns</p>\n",
       "</div>"
      ],
      "text/plain": [
       "             Survived  Pclass                Name     Sex    Age  SibSp  \\\n",
       "PassengerId                                                               \n",
       "0                   1       1    Oconnor, Frankie    male    NaN      2   \n",
       "1                   0       3         Bryan, Drew    male    NaN      0   \n",
       "2                   0       3      Owens, Kenneth    male   0.33      1   \n",
       "3                   0       3       Kramer, James    male  19.00      0   \n",
       "4                   1       3       Bond, Michael    male  25.00      0   \n",
       "...               ...     ...                 ...     ...    ...    ...   \n",
       "99995               1       2         Bell, Adele  female  62.00      0   \n",
       "99996               0       2       Brown, Herman    male  66.00      0   \n",
       "99997               0       3  Childress, Charles    male  37.00      0   \n",
       "99998               0       3    Caughlin, Thomas    male  51.00      0   \n",
       "99999               0       3       Enciso, Tyler    male  55.00      0   \n",
       "\n",
       "             Parch     Ticket   Fare   Cabin Embarked  \n",
       "PassengerId                                            \n",
       "0                0     209245  27.14  C12239        S  \n",
       "1                0      27323  13.35     NaN        S  \n",
       "2                2  CA 457703  71.29     NaN        S  \n",
       "3                0   A. 10866  13.04     NaN        S  \n",
       "4                0     427635   7.76     NaN        S  \n",
       "...            ...        ...    ...     ...      ...  \n",
       "99995            0   PC 15008  14.86  D17243        C  \n",
       "99996            0      13273  11.15     NaN        S  \n",
       "99997            0        NaN   9.95     NaN        S  \n",
       "99998            1     458654  30.92     NaN        S  \n",
       "99999            0     458074  13.96     NaN        S  \n",
       "\n",
       "[100000 rows x 11 columns]"
      ]
     },
     "execution_count": 8,
     "metadata": {},
     "output_type": "execute_result"
    }
   ],
   "source": [
    "df.drop_duplicates()"
   ]
  },
  {
   "cell_type": "markdown",
   "id": "b98253f4",
   "metadata": {},
   "source": [
    "### Столбец \"Survived\"\n",
    "бинарный признак обозначающий выжил ли данный пассажир (0 = No, 1 = Yes)"
   ]
  },
  {
   "cell_type": "markdown",
   "id": "1ee1bcde",
   "metadata": {},
   "source": [
    "Посмотрим на выживаемость"
   ]
  },
  {
   "cell_type": "code",
   "execution_count": 9,
   "id": "69a13086",
   "metadata": {},
   "outputs": [
    {
     "data": {
      "text/plain": [
       "<AxesSubplot:xlabel='Survived', ylabel='count'>"
      ]
     },
     "execution_count": 9,
     "metadata": {},
     "output_type": "execute_result"
    },
    {
     "data": {
      "image/png": "[encoded data removed]",
      "text/plain": [
       "<Figure size 432x288 with 1 Axes>"
      ]
     },
     "metadata": {
      "needs_background": "light"
     },
     "output_type": "display_data"
    }
   ],
   "source": [
    "sns.countplot(x='Survived', data=df)"
   ]
  },
  {
   "cell_type": "markdown",
   "id": "25506975",
   "metadata": {},
   "source": [
    "Большинство пассажиров погибло"
   ]
  },
  {
   "cell_type": "markdown",
   "id": "9ceb5425",
   "metadata": {},
   "source": [
    "### Столбец \"Pclass\"\n",
    "упорядоченный признак обозначающий класс пассажира"
   ]
  },
  {
   "cell_type": "code",
   "execution_count": 10,
   "id": "418107eb",
   "metadata": {},
   "outputs": [
    {
     "data": {
      "text/plain": [
       "<AxesSubplot:xlabel='Pclass', ylabel='count'>"
      ]
     },
     "execution_count": 10,
     "metadata": {},
     "output_type": "execute_result"
    },
    {
     "data": {
      "image/png": "[encoded data removed]",
      "text/plain": [
       "<Figure size 432x288 with 1 Axes>"
      ]
     },
     "metadata": {
      "needs_background": "light"
     },
     "output_type": "display_data"
    }
   ],
   "source": [
    "sns.countplot(x='Pclass', data=df)"
   ]
  },
  {
   "cell_type": "markdown",
   "id": "a25f9e3f",
   "metadata": {},
   "source": [
    "больше всего пассажиров из третьего класса"
   ]
  },
  {
   "cell_type": "markdown",
   "id": "2b6e5ffa",
   "metadata": {},
   "source": [
    "### Столбец \"Name\"\n",
    "имя паасажира"
   ]
  },
  {
   "cell_type": "code",
   "execution_count": 11,
   "id": "ca2a7f9b",
   "metadata": {},
   "outputs": [
    {
     "data": {
      "text/plain": [
       "Johnson, John        31\n",
       "Smith, James         24\n",
       "Smith, John          24\n",
       "Johnson, William     22\n",
       "Smith, Michael       20\n",
       "                     ..\n",
       "Davis, Andre          1\n",
       "Rosenblum, Ronald     1\n",
       "Landry, Ernesto       1\n",
       "Mcdonald, Frances     1\n",
       "Enciso, Tyler         1\n",
       "Name: Name, Length: 92144, dtype: int64"
      ]
     },
     "execution_count": 11,
     "metadata": {},
     "output_type": "execute_result"
    }
   ],
   "source": [
    "df['Name'].value_counts()"
   ]
  },
  {
   "cell_type": "markdown",
   "id": "d6e9f643",
   "metadata": {},
   "source": [
    "Видим довольно много людей с одинаковыми именем и фамилией"
   ]
  },
  {
   "cell_type": "markdown",
   "id": "654adf15",
   "metadata": {},
   "source": [
    "посмотрим на самого популярного, чтобы увидеть, что это не дубликаты"
   ]
  },
  {
   "cell_type": "code",
   "execution_count": 12,
   "id": "80e5c8fe",
   "metadata": {},
   "outputs": [
    {
     "data": {
      "text/html": [
       "<div>\n",
       "<style scoped>\n",
       "    .dataframe tbody tr th:only-of-type {\n",
       "        vertical-align: middle;\n",
       "    }\n",
       "\n",
       "    .dataframe tbody tr th {\n",
       "        vertical-align: top;\n",
       "    }\n",
       "\n",
       "    .dataframe thead th {\n",
       "        text-align: right;\n",
       "    }\n",
       "</style>\n",
       "<table border=\"1\" class=\"dataframe\">\n",
       "  <thead>\n",
       "    <tr style=\"text-align: right;\">\n",
       "      <th></th>\n",
       "      <th>Survived</th>\n",
       "      <th>Pclass</th>\n",
       "      <th>Name</th>\n",
       "      <th>Sex</th>\n",
       "      <th>Age</th>\n",
       "      <th>SibSp</th>\n",
       "      <th>Parch</th>\n",
       "      <th>Ticket</th>\n",
       "      <th>Fare</th>\n",
       "      <th>Cabin</th>\n",
       "      <th>Embarked</th>\n",
       "    </tr>\n",
       "    <tr>\n",
       "      <th>PassengerId</th>\n",
       "      <th></th>\n",
       "      <th></th>\n",
       "      <th></th>\n",
       "      <th></th>\n",
       "      <th></th>\n",
       "      <th></th>\n",
       "      <th></th>\n",
       "      <th></th>\n",
       "      <th></th>\n",
       "      <th></th>\n",
       "      <th></th>\n",
       "    </tr>\n",
       "  </thead>\n",
       "  <tbody>\n",
       "    <tr>\n",
       "      <th>19056</th>\n",
       "      <td>0</td>\n",
       "      <td>3</td>\n",
       "      <td>Johnson, John</td>\n",
       "      <td>male</td>\n",
       "      <td>8.0</td>\n",
       "      <td>0</td>\n",
       "      <td>0</td>\n",
       "      <td>467116</td>\n",
       "      <td>49.47</td>\n",
       "      <td>NaN</td>\n",
       "      <td>S</td>\n",
       "    </tr>\n",
       "    <tr>\n",
       "      <th>57925</th>\n",
       "      <td>0</td>\n",
       "      <td>2</td>\n",
       "      <td>Johnson, John</td>\n",
       "      <td>male</td>\n",
       "      <td>14.0</td>\n",
       "      <td>0</td>\n",
       "      <td>1</td>\n",
       "      <td>332905</td>\n",
       "      <td>4.30</td>\n",
       "      <td>NaN</td>\n",
       "      <td>S</td>\n",
       "    </tr>\n",
       "    <tr>\n",
       "      <th>65185</th>\n",
       "      <td>0</td>\n",
       "      <td>3</td>\n",
       "      <td>Johnson, John</td>\n",
       "      <td>male</td>\n",
       "      <td>18.0</td>\n",
       "      <td>0</td>\n",
       "      <td>0</td>\n",
       "      <td>6408</td>\n",
       "      <td>8.18</td>\n",
       "      <td>NaN</td>\n",
       "      <td>S</td>\n",
       "    </tr>\n",
       "    <tr>\n",
       "      <th>32384</th>\n",
       "      <td>0</td>\n",
       "      <td>3</td>\n",
       "      <td>Johnson, John</td>\n",
       "      <td>male</td>\n",
       "      <td>21.0</td>\n",
       "      <td>0</td>\n",
       "      <td>0</td>\n",
       "      <td>43246</td>\n",
       "      <td>25.34</td>\n",
       "      <td>NaN</td>\n",
       "      <td>S</td>\n",
       "    </tr>\n",
       "    <tr>\n",
       "      <th>5045</th>\n",
       "      <td>0</td>\n",
       "      <td>3</td>\n",
       "      <td>Johnson, John</td>\n",
       "      <td>male</td>\n",
       "      <td>21.0</td>\n",
       "      <td>0</td>\n",
       "      <td>0</td>\n",
       "      <td>13238</td>\n",
       "      <td>9.26</td>\n",
       "      <td>NaN</td>\n",
       "      <td>S</td>\n",
       "    </tr>\n",
       "    <tr>\n",
       "      <th>33425</th>\n",
       "      <td>0</td>\n",
       "      <td>3</td>\n",
       "      <td>Johnson, John</td>\n",
       "      <td>male</td>\n",
       "      <td>22.0</td>\n",
       "      <td>0</td>\n",
       "      <td>0</td>\n",
       "      <td>A. 28425</td>\n",
       "      <td>9.40</td>\n",
       "      <td>NaN</td>\n",
       "      <td>S</td>\n",
       "    </tr>\n",
       "    <tr>\n",
       "      <th>17252</th>\n",
       "      <td>0</td>\n",
       "      <td>3</td>\n",
       "      <td>Johnson, John</td>\n",
       "      <td>male</td>\n",
       "      <td>23.0</td>\n",
       "      <td>0</td>\n",
       "      <td>0</td>\n",
       "      <td>14162</td>\n",
       "      <td>10.60</td>\n",
       "      <td>NaN</td>\n",
       "      <td>S</td>\n",
       "    </tr>\n",
       "    <tr>\n",
       "      <th>7618</th>\n",
       "      <td>0</td>\n",
       "      <td>3</td>\n",
       "      <td>Johnson, John</td>\n",
       "      <td>male</td>\n",
       "      <td>24.0</td>\n",
       "      <td>1</td>\n",
       "      <td>0</td>\n",
       "      <td>12180</td>\n",
       "      <td>14.07</td>\n",
       "      <td>NaN</td>\n",
       "      <td>S</td>\n",
       "    </tr>\n",
       "    <tr>\n",
       "      <th>71084</th>\n",
       "      <td>0</td>\n",
       "      <td>3</td>\n",
       "      <td>Johnson, John</td>\n",
       "      <td>male</td>\n",
       "      <td>24.0</td>\n",
       "      <td>0</td>\n",
       "      <td>0</td>\n",
       "      <td>337535</td>\n",
       "      <td>6.64</td>\n",
       "      <td>NaN</td>\n",
       "      <td>S</td>\n",
       "    </tr>\n",
       "    <tr>\n",
       "      <th>13925</th>\n",
       "      <td>0</td>\n",
       "      <td>3</td>\n",
       "      <td>Johnson, John</td>\n",
       "      <td>male</td>\n",
       "      <td>26.0</td>\n",
       "      <td>0</td>\n",
       "      <td>0</td>\n",
       "      <td>338045</td>\n",
       "      <td>5.90</td>\n",
       "      <td>NaN</td>\n",
       "      <td>S</td>\n",
       "    </tr>\n",
       "    <tr>\n",
       "      <th>37489</th>\n",
       "      <td>0</td>\n",
       "      <td>3</td>\n",
       "      <td>Johnson, John</td>\n",
       "      <td>male</td>\n",
       "      <td>26.0</td>\n",
       "      <td>0</td>\n",
       "      <td>0</td>\n",
       "      <td>STON/O 3825861</td>\n",
       "      <td>8.95</td>\n",
       "      <td>NaN</td>\n",
       "      <td>S</td>\n",
       "    </tr>\n",
       "    <tr>\n",
       "      <th>88804</th>\n",
       "      <td>0</td>\n",
       "      <td>3</td>\n",
       "      <td>Johnson, John</td>\n",
       "      <td>male</td>\n",
       "      <td>27.0</td>\n",
       "      <td>0</td>\n",
       "      <td>0</td>\n",
       "      <td>461189</td>\n",
       "      <td>18.36</td>\n",
       "      <td>NaN</td>\n",
       "      <td>S</td>\n",
       "    </tr>\n",
       "    <tr>\n",
       "      <th>31269</th>\n",
       "      <td>1</td>\n",
       "      <td>1</td>\n",
       "      <td>Johnson, John</td>\n",
       "      <td>male</td>\n",
       "      <td>28.0</td>\n",
       "      <td>0</td>\n",
       "      <td>0</td>\n",
       "      <td>465838</td>\n",
       "      <td>74.45</td>\n",
       "      <td>C11706</td>\n",
       "      <td>C</td>\n",
       "    </tr>\n",
       "    <tr>\n",
       "      <th>5290</th>\n",
       "      <td>0</td>\n",
       "      <td>2</td>\n",
       "      <td>Johnson, John</td>\n",
       "      <td>male</td>\n",
       "      <td>31.0</td>\n",
       "      <td>0</td>\n",
       "      <td>0</td>\n",
       "      <td>STON/O 26155</td>\n",
       "      <td>5.69</td>\n",
       "      <td>NaN</td>\n",
       "      <td>S</td>\n",
       "    </tr>\n",
       "    <tr>\n",
       "      <th>8024</th>\n",
       "      <td>0</td>\n",
       "      <td>2</td>\n",
       "      <td>Johnson, John</td>\n",
       "      <td>male</td>\n",
       "      <td>33.0</td>\n",
       "      <td>0</td>\n",
       "      <td>0</td>\n",
       "      <td>SC/Paris 20108</td>\n",
       "      <td>24.40</td>\n",
       "      <td>NaN</td>\n",
       "      <td>S</td>\n",
       "    </tr>\n",
       "    <tr>\n",
       "      <th>45799</th>\n",
       "      <td>0</td>\n",
       "      <td>3</td>\n",
       "      <td>Johnson, John</td>\n",
       "      <td>male</td>\n",
       "      <td>34.0</td>\n",
       "      <td>0</td>\n",
       "      <td>0</td>\n",
       "      <td>C.A. 29099</td>\n",
       "      <td>6.69</td>\n",
       "      <td>NaN</td>\n",
       "      <td>S</td>\n",
       "    </tr>\n",
       "    <tr>\n",
       "      <th>95030</th>\n",
       "      <td>0</td>\n",
       "      <td>3</td>\n",
       "      <td>Johnson, John</td>\n",
       "      <td>male</td>\n",
       "      <td>37.0</td>\n",
       "      <td>1</td>\n",
       "      <td>0</td>\n",
       "      <td>18448</td>\n",
       "      <td>9.67</td>\n",
       "      <td>NaN</td>\n",
       "      <td>S</td>\n",
       "    </tr>\n",
       "    <tr>\n",
       "      <th>15524</th>\n",
       "      <td>0</td>\n",
       "      <td>1</td>\n",
       "      <td>Johnson, John</td>\n",
       "      <td>male</td>\n",
       "      <td>41.0</td>\n",
       "      <td>1</td>\n",
       "      <td>0</td>\n",
       "      <td>6887</td>\n",
       "      <td>5.56</td>\n",
       "      <td>NaN</td>\n",
       "      <td>S</td>\n",
       "    </tr>\n",
       "    <tr>\n",
       "      <th>14455</th>\n",
       "      <td>0</td>\n",
       "      <td>2</td>\n",
       "      <td>Johnson, John</td>\n",
       "      <td>male</td>\n",
       "      <td>51.0</td>\n",
       "      <td>0</td>\n",
       "      <td>0</td>\n",
       "      <td>503268</td>\n",
       "      <td>29.75</td>\n",
       "      <td>NaN</td>\n",
       "      <td>S</td>\n",
       "    </tr>\n",
       "    <tr>\n",
       "      <th>44078</th>\n",
       "      <td>1</td>\n",
       "      <td>1</td>\n",
       "      <td>Johnson, John</td>\n",
       "      <td>male</td>\n",
       "      <td>52.0</td>\n",
       "      <td>0</td>\n",
       "      <td>0</td>\n",
       "      <td>492199</td>\n",
       "      <td>26.85</td>\n",
       "      <td>A16070</td>\n",
       "      <td>S</td>\n",
       "    </tr>\n",
       "    <tr>\n",
       "      <th>98089</th>\n",
       "      <td>0</td>\n",
       "      <td>1</td>\n",
       "      <td>Johnson, John</td>\n",
       "      <td>male</td>\n",
       "      <td>54.0</td>\n",
       "      <td>0</td>\n",
       "      <td>0</td>\n",
       "      <td>3754347</td>\n",
       "      <td>23.90</td>\n",
       "      <td>NaN</td>\n",
       "      <td>S</td>\n",
       "    </tr>\n",
       "    <tr>\n",
       "      <th>15201</th>\n",
       "      <td>0</td>\n",
       "      <td>2</td>\n",
       "      <td>Johnson, John</td>\n",
       "      <td>male</td>\n",
       "      <td>57.0</td>\n",
       "      <td>0</td>\n",
       "      <td>2</td>\n",
       "      <td>336215</td>\n",
       "      <td>28.70</td>\n",
       "      <td>A7239</td>\n",
       "      <td>C</td>\n",
       "    </tr>\n",
       "    <tr>\n",
       "      <th>74829</th>\n",
       "      <td>0</td>\n",
       "      <td>3</td>\n",
       "      <td>Johnson, John</td>\n",
       "      <td>male</td>\n",
       "      <td>57.0</td>\n",
       "      <td>0</td>\n",
       "      <td>0</td>\n",
       "      <td>11262</td>\n",
       "      <td>4.94</td>\n",
       "      <td>NaN</td>\n",
       "      <td>S</td>\n",
       "    </tr>\n",
       "    <tr>\n",
       "      <th>49157</th>\n",
       "      <td>1</td>\n",
       "      <td>1</td>\n",
       "      <td>Johnson, John</td>\n",
       "      <td>male</td>\n",
       "      <td>58.0</td>\n",
       "      <td>1</td>\n",
       "      <td>0</td>\n",
       "      <td>330965</td>\n",
       "      <td>202.47</td>\n",
       "      <td>B12756</td>\n",
       "      <td>C</td>\n",
       "    </tr>\n",
       "    <tr>\n",
       "      <th>80306</th>\n",
       "      <td>0</td>\n",
       "      <td>2</td>\n",
       "      <td>Johnson, John</td>\n",
       "      <td>male</td>\n",
       "      <td>58.0</td>\n",
       "      <td>0</td>\n",
       "      <td>0</td>\n",
       "      <td>NaN</td>\n",
       "      <td>6.88</td>\n",
       "      <td>NaN</td>\n",
       "      <td>S</td>\n",
       "    </tr>\n",
       "    <tr>\n",
       "      <th>54163</th>\n",
       "      <td>0</td>\n",
       "      <td>3</td>\n",
       "      <td>Johnson, John</td>\n",
       "      <td>male</td>\n",
       "      <td>59.0</td>\n",
       "      <td>0</td>\n",
       "      <td>0</td>\n",
       "      <td>475133</td>\n",
       "      <td>5.24</td>\n",
       "      <td>NaN</td>\n",
       "      <td>S</td>\n",
       "    </tr>\n",
       "    <tr>\n",
       "      <th>91782</th>\n",
       "      <td>0</td>\n",
       "      <td>3</td>\n",
       "      <td>Johnson, John</td>\n",
       "      <td>male</td>\n",
       "      <td>61.0</td>\n",
       "      <td>0</td>\n",
       "      <td>0</td>\n",
       "      <td>342220</td>\n",
       "      <td>22.05</td>\n",
       "      <td>NaN</td>\n",
       "      <td>S</td>\n",
       "    </tr>\n",
       "    <tr>\n",
       "      <th>5523</th>\n",
       "      <td>0</td>\n",
       "      <td>2</td>\n",
       "      <td>Johnson, John</td>\n",
       "      <td>male</td>\n",
       "      <td>68.0</td>\n",
       "      <td>0</td>\n",
       "      <td>0</td>\n",
       "      <td>215282</td>\n",
       "      <td>11.77</td>\n",
       "      <td>NaN</td>\n",
       "      <td>S</td>\n",
       "    </tr>\n",
       "    <tr>\n",
       "      <th>9177</th>\n",
       "      <td>0</td>\n",
       "      <td>2</td>\n",
       "      <td>Johnson, John</td>\n",
       "      <td>male</td>\n",
       "      <td>70.0</td>\n",
       "      <td>0</td>\n",
       "      <td>0</td>\n",
       "      <td>6409</td>\n",
       "      <td>27.08</td>\n",
       "      <td>NaN</td>\n",
       "      <td>S</td>\n",
       "    </tr>\n",
       "    <tr>\n",
       "      <th>4676</th>\n",
       "      <td>0</td>\n",
       "      <td>3</td>\n",
       "      <td>Johnson, John</td>\n",
       "      <td>male</td>\n",
       "      <td>76.0</td>\n",
       "      <td>0</td>\n",
       "      <td>0</td>\n",
       "      <td>SC/AH 4245034</td>\n",
       "      <td>30.79</td>\n",
       "      <td>NaN</td>\n",
       "      <td>S</td>\n",
       "    </tr>\n",
       "    <tr>\n",
       "      <th>69344</th>\n",
       "      <td>0</td>\n",
       "      <td>2</td>\n",
       "      <td>Johnson, John</td>\n",
       "      <td>male</td>\n",
       "      <td>NaN</td>\n",
       "      <td>0</td>\n",
       "      <td>0</td>\n",
       "      <td>4226494</td>\n",
       "      <td>7.41</td>\n",
       "      <td>NaN</td>\n",
       "      <td>S</td>\n",
       "    </tr>\n",
       "  </tbody>\n",
       "</table>\n",
       "</div>"
      ],
      "text/plain": [
       "             Survived  Pclass           Name   Sex   Age  SibSp  Parch  \\\n",
       "PassengerId                                                              \n",
       "19056               0       3  Johnson, John  male   8.0      0      0   \n",
       "57925               0       2  Johnson, John  male  14.0      0      1   \n",
       "65185               0       3  Johnson, John  male  18.0      0      0   \n",
       "32384               0       3  Johnson, John  male  21.0      0      0   \n",
       "5045                0       3  Johnson, John  male  21.0      0      0   \n",
       "33425               0       3  Johnson, John  male  22.0      0      0   \n",
       "17252               0       3  Johnson, John  male  23.0      0      0   \n",
       "7618                0       3  Johnson, John  male  24.0      1      0   \n",
       "71084               0       3  Johnson, John  male  24.0      0      0   \n",
       "13925               0       3  Johnson, John  male  26.0      0      0   \n",
       "37489               0       3  Johnson, John  male  26.0      0      0   \n",
       "88804               0       3  Johnson, John  male  27.0      0      0   \n",
       "31269               1       1  Johnson, John  male  28.0      0      0   \n",
       "5290                0       2  Johnson, John  male  31.0      0      0   \n",
       "8024                0       2  Johnson, John  male  33.0      0      0   \n",
       "45799               0       3  Johnson, John  male  34.0      0      0   \n",
       "95030               0       3  Johnson, John  male  37.0      1      0   \n",
       "15524               0       1  Johnson, John  male  41.0      1      0   \n",
       "14455               0       2  Johnson, John  male  51.0      0      0   \n",
       "44078               1       1  Johnson, John  male  52.0      0      0   \n",
       "98089               0       1  Johnson, John  male  54.0      0      0   \n",
       "15201               0       2  Johnson, John  male  57.0      0      2   \n",
       "74829               0       3  Johnson, John  male  57.0      0      0   \n",
       "49157               1       1  Johnson, John  male  58.0      1      0   \n",
       "80306               0       2  Johnson, John  male  58.0      0      0   \n",
       "54163               0       3  Johnson, John  male  59.0      0      0   \n",
       "91782               0       3  Johnson, John  male  61.0      0      0   \n",
       "5523                0       2  Johnson, John  male  68.0      0      0   \n",
       "9177                0       2  Johnson, John  male  70.0      0      0   \n",
       "4676                0       3  Johnson, John  male  76.0      0      0   \n",
       "69344               0       2  Johnson, John  male   NaN      0      0   \n",
       "\n",
       "                     Ticket    Fare   Cabin Embarked  \n",
       "PassengerId                                           \n",
       "19056                467116   49.47     NaN        S  \n",
       "57925                332905    4.30     NaN        S  \n",
       "65185                  6408    8.18     NaN        S  \n",
       "32384                 43246   25.34     NaN        S  \n",
       "5045                  13238    9.26     NaN        S  \n",
       "33425              A. 28425    9.40     NaN        S  \n",
       "17252                 14162   10.60     NaN        S  \n",
       "7618                  12180   14.07     NaN        S  \n",
       "71084                337535    6.64     NaN        S  \n",
       "13925                338045    5.90     NaN        S  \n",
       "37489        STON/O 3825861    8.95     NaN        S  \n",
       "88804                461189   18.36     NaN        S  \n",
       "31269                465838   74.45  C11706        C  \n",
       "5290           STON/O 26155    5.69     NaN        S  \n",
       "8024         SC/Paris 20108   24.40     NaN        S  \n",
       "45799            C.A. 29099    6.69     NaN        S  \n",
       "95030                 18448    9.67     NaN        S  \n",
       "15524                  6887    5.56     NaN        S  \n",
       "14455                503268   29.75     NaN        S  \n",
       "44078                492199   26.85  A16070        S  \n",
       "98089               3754347   23.90     NaN        S  \n",
       "15201                336215   28.70   A7239        C  \n",
       "74829                 11262    4.94     NaN        S  \n",
       "49157                330965  202.47  B12756        C  \n",
       "80306                   NaN    6.88     NaN        S  \n",
       "54163                475133    5.24     NaN        S  \n",
       "91782                342220   22.05     NaN        S  \n",
       "5523                 215282   11.77     NaN        S  \n",
       "9177                   6409   27.08     NaN        S  \n",
       "4676          SC/AH 4245034   30.79     NaN        S  \n",
       "69344               4226494    7.41     NaN        S  "
      ]
     },
     "execution_count": 12,
     "metadata": {},
     "output_type": "execute_result"
    }
   ],
   "source": [
    "df[df['Name']=='Johnson, John'].sort_values(by='Age')"
   ]
  },
  {
   "cell_type": "markdown",
   "id": "3e2a0fe0",
   "metadata": {},
   "source": [
    "дубликатов не наболюдаем, значит это все разные люди"
   ]
  },
  {
   "cell_type": "markdown",
   "id": "ded7ca2b",
   "metadata": {},
   "source": [
    "### Столбец \"Sex\"\n",
    "~~был ли секс у пассажира во время путешествия~~ бинарный признак обозначающий пол пассажира (0 - женщина, 1 - мужчина)"
   ]
  },
  {
   "cell_type": "code",
   "execution_count": 13,
   "id": "682c03ad",
   "metadata": {},
   "outputs": [],
   "source": [
    "df['Sex'] = df['Sex'].replace({'female': 0, 'male': 1})"
   ]
  },
  {
   "cell_type": "code",
   "execution_count": 14,
   "id": "96ae4dfa",
   "metadata": {},
   "outputs": [
    {
     "data": {
      "text/plain": [
       "<AxesSubplot:xlabel='Sex', ylabel='count'>"
      ]
     },
     "execution_count": 14,
     "metadata": {},
     "output_type": "execute_result"
    },
    {
     "data": {
      "image/png": "[encoded data removed]",
      "text/plain": [
       "<Figure size 432x288 with 1 Axes>"
      ]
     },
     "metadata": {
      "needs_background": "light"
     },
     "output_type": "display_data"
    }
   ],
   "source": [
    "sns.countplot(x='Sex', data=df)"
   ]
  },
  {
   "cell_type": "markdown",
   "id": "a0c54bdb",
   "metadata": {},
   "source": [
    "На Титанике было больше мужчин, чем женщин"
   ]
  },
  {
   "cell_type": "markdown",
   "id": "1d8375db",
   "metadata": {},
   "source": [
    "### Столбец \"Age\"\n",
    "числовой признак обозначающий возраст пассажира"
   ]
  },
  {
   "cell_type": "markdown",
   "id": "4d800543",
   "metadata": {},
   "source": [
    "Заменим пропущенные значения на медианное"
   ]
  },
  {
   "cell_type": "code",
   "execution_count": 15,
   "id": "a8d8960f",
   "metadata": {},
   "outputs": [
    {
     "name": "stdout",
     "output_type": "stream",
     "text": [
      "39.0\n"
     ]
    }
   ],
   "source": [
    "age_median = df['Age'].median()\n",
    "print(age_median)"
   ]
  },
  {
   "cell_type": "code",
   "execution_count": 16,
   "id": "dc02b06d",
   "metadata": {},
   "outputs": [],
   "source": [
    "df['Age'] = df['Age'].fillna(age_median)"
   ]
  },
  {
   "cell_type": "markdown",
   "id": "01eff370",
   "metadata": {},
   "source": [
    "Посмотрим на распределение пассажиров по возросту"
   ]
  },
  {
   "cell_type": "code",
   "execution_count": 17,
   "id": "f12fdeb0",
   "metadata": {},
   "outputs": [
    {
     "data": {
      "text/plain": [
       "<AxesSubplot:xlabel='Age', ylabel='Count'>"
      ]
     },
     "execution_count": 17,
     "metadata": {},
     "output_type": "execute_result"
    },
    {
     "data": {
      "image/png": "[encoded data removed]",
      "text/plain": [
       "<Figure size 432x288 with 1 Axes>"
      ]
     },
     "metadata": {
      "needs_background": "light"
     },
     "output_type": "display_data"
    }
   ],
   "source": [
    "sns.histplot(df['Age'])"
   ]
  },
  {
   "cell_type": "markdown",
   "id": "122e0161",
   "metadata": {},
   "source": [
    "дополнительно посмотрим на параметры значений"
   ]
  },
  {
   "cell_type": "code",
   "execution_count": 18,
   "id": "65e7921b",
   "metadata": {},
   "outputs": [
    {
     "data": {
      "text/plain": [
       "count    100000.000000\n",
       "mean         38.376690\n",
       "std          18.009956\n",
       "min           0.080000\n",
       "25%          25.000000\n",
       "50%          39.000000\n",
       "75%          53.000000\n",
       "max          87.000000\n",
       "Name: Age, dtype: float64"
      ]
     },
     "execution_count": 18,
     "metadata": {},
     "output_type": "execute_result"
    }
   ],
   "source": [
    "df['Age'].describe()"
   ]
  },
  {
   "cell_type": "markdown",
   "id": "29445546",
   "metadata": {},
   "source": [
    "### Столбец \"SibSp\"\n",
    "количество братьев, сестер, и супругов пассажиров"
   ]
  },
  {
   "cell_type": "markdown",
   "id": "937e64c2",
   "metadata": {},
   "source": [
    "### Столбец \"Parch\"\n",
    "количество родителей и детей пассажиров"
   ]
  },
  {
   "cell_type": "markdown",
   "id": "ee41a174",
   "metadata": {},
   "source": [
    "### Столбец \"Ticket\"\n",
    "номера билетов пассажиров"
   ]
  },
  {
   "cell_type": "markdown",
   "id": "ef44480b",
   "metadata": {},
   "source": [
    "Заменим пропущенные значения на 'without'"
   ]
  },
  {
   "cell_type": "code",
   "execution_count": 19,
   "id": "7cb434cd",
   "metadata": {},
   "outputs": [],
   "source": [
    "df['Ticket'] = df['Ticket'].fillna('without')"
   ]
  },
  {
   "cell_type": "markdown",
   "id": "308ff57e",
   "metadata": {},
   "source": [
    "### Столбец \"Fare\"\n",
    "стоимость билета"
   ]
  },
  {
   "cell_type": "markdown",
   "id": "1fe831d6",
   "metadata": {},
   "source": [
    "Заменим пропущенные значения на среднюю цену"
   ]
  },
  {
   "cell_type": "code",
   "execution_count": 20,
   "id": "3de4347e",
   "metadata": {},
   "outputs": [],
   "source": [
    "df['Fare'].fillna(np.mean(df['Fare']), inplace=True)"
   ]
  },
  {
   "cell_type": "markdown",
   "id": "b21aa567",
   "metadata": {},
   "source": [
    "Посмотрим на распределение пассажиров по цене за билет"
   ]
  },
  {
   "cell_type": "code",
   "execution_count": 21,
   "id": "dadbbb9c",
   "metadata": {},
   "outputs": [
    {
     "data": {
      "text/plain": [
       "<AxesSubplot:xlabel='Fare', ylabel='Count'>"
      ]
     },
     "execution_count": 21,
     "metadata": {},
     "output_type": "execute_result"
    },
    {
     "data": {
      "image/png": "[encoded data removed]",
      "text/plain": [
       "<Figure size 432x288 with 1 Axes>"
      ]
     },
     "metadata": {
      "needs_background": "light"
     },
     "output_type": "display_data"
    }
   ],
   "source": [
    "sns.histplot(df[df['Fare']<150]['Fare'])"
   ]
  },
  {
   "cell_type": "markdown",
   "id": "3a156ba4",
   "metadata": {},
   "source": [
    "Видим три отчетливых локальных максимума, скорее всего это три разных класса"
   ]
  },
  {
   "cell_type": "markdown",
   "id": "577b2d4a",
   "metadata": {},
   "source": [
    "дополнительно посмотрим на параметры значений"
   ]
  },
  {
   "cell_type": "code",
   "execution_count": 22,
   "id": "28b31b7e",
   "metadata": {},
   "outputs": [
    {
     "data": {
      "text/plain": [
       "count    100000.00000\n",
       "mean         43.92933\n",
       "std          69.54218\n",
       "min           0.68000\n",
       "25%          10.04000\n",
       "50%          24.49000\n",
       "75%          33.56000\n",
       "max         744.66000\n",
       "Name: Fare, dtype: float64"
      ]
     },
     "execution_count": 22,
     "metadata": {},
     "output_type": "execute_result"
    }
   ],
   "source": [
    "df['Fare'].describe()"
   ]
  },
  {
   "cell_type": "markdown",
   "id": "404d441a",
   "metadata": {},
   "source": [
    "Удивительно, что самы дешевый билет стоит 0.68, а самый дорогой 744.66, посмотрим сколько людей заплатило больше 500"
   ]
  },
  {
   "cell_type": "code",
   "execution_count": 23,
   "id": "1df3ff1f",
   "metadata": {},
   "outputs": [
    {
     "data": {
      "text/plain": [
       "343"
      ]
     },
     "execution_count": 23,
     "metadata": {},
     "output_type": "execute_result"
    }
   ],
   "source": [
    "len(df[df['Fare']>500])"
   ]
  },
  {
   "cell_type": "markdown",
   "id": "e2e4f704",
   "metadata": {},
   "source": [
    "Видимо, что это не выбросы, а страшно богатые люди"
   ]
  },
  {
   "cell_type": "markdown",
   "id": "ef3f85a3",
   "metadata": {},
   "source": [
    "### Столбец \"Cabin\"\n",
    "номер каюты"
   ]
  },
  {
   "cell_type": "markdown",
   "id": "d42f6921",
   "metadata": {},
   "source": [
    "Заменим пропущенные значения на 'N'"
   ]
  },
  {
   "cell_type": "code",
   "execution_count": 24,
   "id": "55f049b0",
   "metadata": {},
   "outputs": [],
   "source": [
    "df['Cabin'] = df['Cabin'].fillna('N')"
   ]
  },
  {
   "cell_type": "markdown",
   "id": "410174a4",
   "metadata": {},
   "source": [
    "номера кают начианются на какую-то букву, занесем их в отдельный столбец"
   ]
  },
  {
   "cell_type": "code",
   "execution_count": 25,
   "id": "33b35c68",
   "metadata": {},
   "outputs": [],
   "source": [
    "df['Cabin_type'] = df['Cabin'].str.extract('([A-Z])')"
   ]
  },
  {
   "cell_type": "code",
   "execution_count": 26,
   "id": "399e9d7d",
   "metadata": {},
   "outputs": [
    {
     "data": {
      "text/plain": [
       "<AxesSubplot:xlabel='Cabin_type', ylabel='Count'>"
      ]
     },
     "execution_count": 26,
     "metadata": {},
     "output_type": "execute_result"
    },
    {
     "data": {
      "image/png": "[encoded data removed]",
      "text/plain": [
       "<Figure size 432x288 with 1 Axes>"
      ]
     },
     "metadata": {
      "needs_background": "light"
     },
     "output_type": "display_data"
    }
   ],
   "source": [
    "sns.histplot(df[df['Cabin_type']!='N']['Cabin_type'])"
   ]
  },
  {
   "cell_type": "markdown",
   "id": "0cf19753",
   "metadata": {},
   "source": [
    "Видим, что большинство кают были типа A, B и C (буквой N обозначаются пассажиры без указанного номера каюты)"
   ]
  },
  {
   "cell_type": "markdown",
   "id": "457ed0db",
   "metadata": {},
   "source": [
    "### Столбец \"Embarked\"\n",
    "порт посадки"
   ]
  },
  {
   "cell_type": "markdown",
   "id": "b32b7680",
   "metadata": {},
   "source": [
    "Заменим пропущенные значения на 'N'"
   ]
  },
  {
   "cell_type": "code",
   "execution_count": 27,
   "id": "449600f7",
   "metadata": {},
   "outputs": [],
   "source": [
    "df['Embarked'] = df['Embarked'].fillna('N')"
   ]
  },
  {
   "cell_type": "code",
   "execution_count": 28,
   "id": "75428431",
   "metadata": {},
   "outputs": [
    {
     "data": {
      "text/plain": [
       "<AxesSubplot:xlabel='Embarked', ylabel='Count'>"
      ]
     },
     "execution_count": 28,
     "metadata": {},
     "output_type": "execute_result"
    },
    {
     "data": {
      "image/png": "[encoded data removed]",
      "text/plain": [
       "<Figure size 432x288 with 1 Axes>"
      ]
     },
     "metadata": {
      "needs_background": "light"
     },
     "output_type": "display_data"
    }
   ],
   "source": [
    "sns.histplot(df['Embarked'])"
   ]
  },
  {
   "cell_type": "markdown",
   "id": "5f716c9f",
   "metadata": {},
   "source": [
    "Видим, что большинство пассажиров плыло из Southampton"
   ]
  },
  {
   "cell_type": "markdown",
   "id": "4b4012f1",
   "metadata": {},
   "source": [
    "Убедимся, что теперь нет пропущенных значений в столбцах"
   ]
  },
  {
   "cell_type": "code",
   "execution_count": 29,
   "id": "cdd25554",
   "metadata": {},
   "outputs": [
    {
     "name": "stdout",
     "output_type": "stream",
     "text": [
      "<class 'pandas.core.frame.DataFrame'>\n",
      "Int64Index: 100000 entries, 0 to 99999\n",
      "Data columns (total 12 columns):\n",
      " #   Column      Non-Null Count   Dtype  \n",
      "---  ------      --------------   -----  \n",
      " 0   Survived    100000 non-null  int64  \n",
      " 1   Pclass      100000 non-null  int64  \n",
      " 2   Name        100000 non-null  object \n",
      " 3   Sex         100000 non-null  int64  \n",
      " 4   Age         100000 non-null  float64\n",
      " 5   SibSp       100000 non-null  int64  \n",
      " 6   Parch       100000 non-null  int64  \n",
      " 7   Ticket      100000 non-null  object \n",
      " 8   Fare        100000 non-null  float64\n",
      " 9   Cabin       100000 non-null  object \n",
      " 10  Embarked    100000 non-null  object \n",
      " 11  Cabin_type  100000 non-null  object \n",
      "dtypes: float64(2), int64(5), object(5)\n",
      "memory usage: 11.9+ MB\n"
     ]
    }
   ],
   "source": [
    "df.info()"
   ]
  },
  {
   "cell_type": "markdown",
   "id": "5408eca5",
   "metadata": {},
   "source": [
    "# Data exploration"
   ]
  },
  {
   "cell_type": "markdown",
   "id": "1cd32e4b",
   "metadata": {},
   "source": [
    "Посмотрим корреляционную матрицу"
   ]
  },
  {
   "cell_type": "code",
   "execution_count": 30,
   "id": "882f0e77",
   "metadata": {},
   "outputs": [
    {
     "data": {
      "text/plain": [
       "Text(0.5, 1.0, 'Тепловая карта корреляций')"
      ]
     },
     "execution_count": 30,
     "metadata": {},
     "output_type": "execute_result"
    },
    {
     "data": {
      "image/png": "[encoded data removed]",
      "text/plain": [
       "<Figure size 1152x576 with 2 Axes>"
      ]
     },
     "metadata": {
      "needs_background": "light"
     },
     "output_type": "display_data"
    }
   ],
   "source": [
    "plt.figure(figsize=(16, 8))\n",
    "sns.heatmap(df.corr(), cmap=\"coolwarm\", annot=True)\n",
    "plt.title('Тепловая карта корреляций')"
   ]
  },
  {
   "cell_type": "markdown",
   "id": "ce1a6402",
   "metadata": {},
   "source": [
    "Сразу видим зависимость выживаемости от класса каюты и пола, зависимость цены билета от класса и зависимость класса каюты от возраста"
   ]
  },
  {
   "cell_type": "markdown",
   "id": "eb3564d6",
   "metadata": {},
   "source": [
    "Отдельно отметим, что количество родственников на Титанике нисколько не увеличивало и не уменьшало шансы на выживание"
   ]
  },
  {
   "cell_type": "markdown",
   "id": "d9b9b34d",
   "metadata": {},
   "source": [
    "Визуализируем зависимость выживаемости от пола"
   ]
  },
  {
   "cell_type": "code",
   "execution_count": 31,
   "id": "5f085eb4",
   "metadata": {},
   "outputs": [
    {
     "data": {
      "text/plain": [
       "<AxesSubplot:xlabel='Sex', ylabel='count'>"
      ]
     },
     "execution_count": 31,
     "metadata": {},
     "output_type": "execute_result"
    },
    {
     "data": {
      "image/png": "[encoded data removed]",
      "text/plain": [
       "<Figure size 432x288 with 1 Axes>"
      ]
     },
     "metadata": {
      "needs_background": "light"
     },
     "output_type": "display_data"
    }
   ],
   "source": [
    "sns.countplot(x='Sex', hue='Survived', data=df)"
   ]
  },
  {
   "cell_type": "markdown",
   "id": "ba36c4a8",
   "metadata": {},
   "source": [
    "Видим, что мужчин погибло гораздо больше, чем выжило, и большая часть женщин выжила"
   ]
  },
  {
   "cell_type": "markdown",
   "id": "58fadaae",
   "metadata": {},
   "source": [
    "Визуализируем зависимость выживаемости от класса каюты"
   ]
  },
  {
   "cell_type": "code",
   "execution_count": 32,
   "id": "69f9957b",
   "metadata": {},
   "outputs": [
    {
     "data": {
      "text/plain": [
       "<AxesSubplot:xlabel='Pclass', ylabel='count'>"
      ]
     },
     "execution_count": 32,
     "metadata": {},
     "output_type": "execute_result"
    },
    {
     "data": {
      "image/png": "[encoded data removed]",
      "text/plain": [
       "<Figure size 432x288 with 1 Axes>"
      ]
     },
     "metadata": {
      "needs_background": "light"
     },
     "output_type": "display_data"
    }
   ],
   "source": [
    "sns.countplot(x='Pclass', hue='Survived', data=df) "
   ]
  },
  {
   "cell_type": "markdown",
   "id": "8f5f03f2",
   "metadata": {},
   "source": [
    "Видим всплеск среди погибших пассажиров 3 класса, и что больше всего выживших из первого классса"
   ]
  },
  {
   "cell_type": "markdown",
   "id": "72f8bc75",
   "metadata": {},
   "source": [
    "А потом учат, что деньги в жизни не главное..."
   ]
  },
  {
   "cell_type": "markdown",
   "id": "2f235596",
   "metadata": {},
   "source": [
    "Визуализируем зависимость выживаемости от типа каюты (буквы, с которой начинается номер)"
   ]
  },
  {
   "cell_type": "code",
   "execution_count": 33,
   "id": "1d92e347",
   "metadata": {},
   "outputs": [
    {
     "data": {
      "text/plain": [
       "<AxesSubplot:xlabel='Cabin_type', ylabel='count'>"
      ]
     },
     "execution_count": 33,
     "metadata": {},
     "output_type": "execute_result"
    },
    {
     "data": {
      "image/png": "[encoded data removed]",
      "text/plain": [
       "<Figure size 432x288 with 1 Axes>"
      ]
     },
     "metadata": {
      "needs_background": "light"
     },
     "output_type": "display_data"
    }
   ],
   "source": [
    "sns.countplot(x='Cabin_type', hue='Survived', data=df) "
   ]
  },
  {
   "cell_type": "markdown",
   "id": "2e6df8fd",
   "metadata": {},
   "source": [
    "Видим, что большмнство погибших не имело номера каюты"
   ]
  },
  {
   "cell_type": "markdown",
   "id": "98000e07",
   "metadata": {},
   "source": [
    "Посмотрим какого пола люди в разных классах"
   ]
  },
  {
   "cell_type": "code",
   "execution_count": 34,
   "id": "3a336e3a",
   "metadata": {},
   "outputs": [
    {
     "data": {
      "text/plain": [
       "<AxesSubplot:xlabel='Pclass', ylabel='count'>"
      ]
     },
     "execution_count": 34,
     "metadata": {},
     "output_type": "execute_result"
    },
    {
     "data": {
      "image/png": "[encoded data removed]",
      "text/plain": [
       "<Figure size 432x288 with 1 Axes>"
      ]
     },
     "metadata": {
      "needs_background": "light"
     },
     "output_type": "display_data"
    }
   ],
   "source": [
    "sns.countplot(x='Pclass', hue='Sex', data=df) "
   ]
  },
  {
   "cell_type": "raw",
   "id": "3ae36b68",
   "metadata": {},
   "source": [
    "Видим вспеск количества мужчин в третьем классе"
   ]
  },
  {
   "cell_type": "markdown",
   "id": "a1d6f8b2",
   "metadata": {},
   "source": [
    "посмотрим еще несколько зависимостей через boxplot"
   ]
  },
  {
   "cell_type": "code",
   "execution_count": 35,
   "id": "338f2d5b",
   "metadata": {},
   "outputs": [
    {
     "data": {
      "text/plain": [
       "<AxesSubplot:xlabel='SibSp', ylabel='Age'>"
      ]
     },
     "execution_count": 35,
     "metadata": {},
     "output_type": "execute_result"
    },
    {
     "data": {
      "image/png": "[encoded data removed]",
      "text/plain": [
       "<Figure size 432x288 with 1 Axes>"
      ]
     },
     "metadata": {
      "needs_background": "light"
     },
     "output_type": "display_data"
    }
   ],
   "source": [
    "sns.boxplot(data=df, x=\"SibSp\", y=\"Age\")"
   ]
  },
  {
   "cell_type": "markdown",
   "id": "fe06d6c0",
   "metadata": {},
   "source": [
    "Видим, что большинство пасаажиров путешествующих без братьев, сестер и супругов, были 40-летнего возраста"
   ]
  },
  {
   "cell_type": "code",
   "execution_count": 36,
   "id": "f1214e65",
   "metadata": {},
   "outputs": [
    {
     "data": {
      "text/plain": [
       "<AxesSubplot:xlabel='Parch', ylabel='Age'>"
      ]
     },
     "execution_count": 36,
     "metadata": {},
     "output_type": "execute_result"
    },
    {
     "data": {
      "image/png": "[encoded data removed]",
      "text/plain": [
       "<Figure size 432x288 with 1 Axes>"
      ]
     },
     "metadata": {
      "needs_background": "light"
     },
     "output_type": "display_data"
    }
   ],
   "source": [
    "sns.boxplot(data=df, x=\"Parch\", y=\"Age\")"
   ]
  },
  {
   "cell_type": "markdown",
   "id": "77b26a30",
   "metadata": {},
   "source": [
    "Видим, что большинство детей, имело двоих родителей на Титанике"
   ]
  },
  {
   "cell_type": "code",
   "execution_count": 37,
   "id": "5d90f4d6",
   "metadata": {},
   "outputs": [
    {
     "data": {
      "text/plain": [
       "<AxesSubplot:xlabel='Survived', ylabel='Age'>"
      ]
     },
     "execution_count": 37,
     "metadata": {},
     "output_type": "execute_result"
    },
    {
     "data": {
      "image/png": "[encoded data removed]",
      "text/plain": [
       "<Figure size 432x288 with 1 Axes>"
      ]
     },
     "metadata": {
      "needs_background": "light"
     },
     "output_type": "display_data"
    }
   ],
   "source": [
    "sns.boxplot(data=df, x='Survived', y='Age')"
   ]
  },
  {
   "cell_type": "markdown",
   "id": "e414ffea",
   "metadata": {},
   "source": [
    "Видим, что выживали чуть-чуть больше пассажиры более взрослые"
   ]
  },
  {
   "cell_type": "markdown",
   "id": "034945c8",
   "metadata": {},
   "source": [
    "# Summary"
   ]
  },
  {
   "cell_type": "markdown",
   "id": "ac8f81dc",
   "metadata": {},
   "source": [
    "НЕТ ВОЙНЕ"
   ]
  },
  {
   "cell_type": "markdown",
   "id": "6bd90c48",
   "metadata": {},
   "source": [
    "Иследовав данные, была обнаружена сильная корреляция выживаемости и пола пассажиров, она даже больше чем корреляция цены билета и класса каюты."
   ]
  },
  {
   "cell_type": "markdown",
   "id": "9e893a01",
   "metadata": {},
   "source": [
    "В целом главный вывод в том, что можно достаточно точно предсказать выжевет ли пассажар, посмотрев на его пол и класс каюты."
   ]
  },
  {
   "cell_type": "markdown",
   "id": "fad8af7f",
   "metadata": {},
   "source": [
    "Менее значимые выводы были сделаны походу исследования данных."
   ]
  },
  {
   "cell_type": "code",
   "execution_count": null,
   "id": "632aeee6",
   "metadata": {},
   "outputs": [],
   "source": []
  }
 ],
 "metadata": {
  "kernelspec": {
   "display_name": "Python 3 (ipykernel)",
   "language": "python",
   "name": "python3"
  },
  "language_info": {
   "codemirror_mode": {
    "name": "ipython",
    "version": 3
   },
   "file_extension": ".py",
   "mimetype": "text/x-python",
   "name": "python",
   "nbconvert_exporter": "python",
   "pygments_lexer": "ipython3",
   "version": "3.9.7"
  },
  "toc": {
   "base_numbering": 1,
   "nav_menu": {},
   "number_sections": true,
   "sideBar": true,
   "skip_h1_title": false,
   "title_cell": "Table of Contents",
   "title_sidebar": "Contents",
   "toc_cell": false,
   "toc_position": {},
   "toc_section_display": true,
   "toc_window_display": false
  }
 },
 "nbformat": 4,
 "nbformat_minor": 5
}
